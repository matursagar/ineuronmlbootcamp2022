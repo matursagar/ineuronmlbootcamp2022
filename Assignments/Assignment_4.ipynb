{
  "nbformat": 4,
  "nbformat_minor": 0,
  "metadata": {
    "colab": {
      "provenance": []
    },
    "kernelspec": {
      "name": "python3",
      "display_name": "Python 3"
    },
    "language_info": {
      "name": "python"
    }
  },
  "cells": [
    {
      "cell_type": "markdown",
      "source": [
        "1. What exactly is [ ]?\n",
        "*Ans:* [ ] is basically used to create a list and if we just pass [ ] then it returns an empty list."
      ],
      "metadata": {
        "id": "9sDsYxXxVeFJ"
      }
    },
    {
      "cell_type": "markdown",
      "source": [
        "2. In a list of values stored in a variable called spam, how would you assign the value 'hello' as the third value? (Assume [2, 4, 6, 8, 10] are in spam.)\n",
        "*Ans:* By using the insert() method.\n"
      ],
      "metadata": {
        "id": "ypYMQYU4Vh9p"
      }
    },
    {
      "cell_type": "code",
      "source": [
        "spam = [2, 4, 6, 8, 10]"
      ],
      "metadata": {
        "id": "qbWXTXiwX3tG"
      },
      "execution_count": null,
      "outputs": []
    },
    {
      "cell_type": "code",
      "source": [
        "spam.insert(2, 'hello')\n",
        "print(spam)"
      ],
      "metadata": {
        "colab": {
          "base_uri": "https://localhost:8080/"
        },
        "id": "_JZEhDPPYBKo",
        "outputId": "03088bc4-0526-4059-9070-5b663c515f30"
      },
      "execution_count": null,
      "outputs": [
        {
          "output_type": "stream",
          "name": "stdout",
          "text": [
            "[2, 4, 'hello', 6, 8, 10]\n"
          ]
        }
      ]
    },
    {
      "cell_type": "markdown",
      "source": [
        "Let's pretend the spam includes the list ['a', 'b', 'c', 'd'] for the next three queries.\n",
        "3. What is the value of spam[int(int('3' * 2) / 11)]?\n",
        "*Ans:* The above code returns the value 'd'.\n",
        "i.e., int('3'*2)=int('33')=33 (since '3' was string).\\\n",
        "int(33/11) = int(3.0) = 3.\\\n",
        "Therefore, spam[int(int('3' * 2)/11)] = spam[3] = 'd'."
      ],
      "metadata": {
        "id": "Vu-0cQUvVoAq"
      }
    },
    {
      "cell_type": "code",
      "source": [
        "spam = ['a', 'b', 'c', 'd']"
      ],
      "metadata": {
        "id": "NAV7CnXh0cfl"
      },
      "execution_count": null,
      "outputs": []
    },
    {
      "cell_type": "code",
      "source": [
        "spam[int(int('3' * 2)/11)]"
      ],
      "metadata": {
        "colab": {
          "base_uri": "https://localhost:8080/",
          "height": 36
        },
        "id": "WdzuMa9v0Yid",
        "outputId": "26b441c0-ab99-4f30-ab06-2b74e53a3ad6"
      },
      "execution_count": null,
      "outputs": [
        {
          "output_type": "execute_result",
          "data": {
            "text/plain": [
              "'d'"
            ],
            "application/vnd.google.colaboratory.intrinsic+json": {
              "type": "string"
            }
          },
          "metadata": {},
          "execution_count": 9
        }
      ]
    },
    {
      "cell_type": "markdown",
      "source": [
        "4. What is the value of spam[-1]?\n",
        "*Ans:* This returns the last element of the list. i.e., 'd'"
      ],
      "metadata": {
        "id": "cVxCTDF_VtZt"
      }
    },
    {
      "cell_type": "code",
      "source": [
        "spam[-1]"
      ],
      "metadata": {
        "colab": {
          "base_uri": "https://localhost:8080/",
          "height": 36
        },
        "id": "G_CpmQcF0zN4",
        "outputId": "46217920-eecf-43ef-b06e-7e3cae742157"
      },
      "execution_count": null,
      "outputs": [
        {
          "output_type": "execute_result",
          "data": {
            "text/plain": [
              "'d'"
            ],
            "application/vnd.google.colaboratory.intrinsic+json": {
              "type": "string"
            }
          },
          "metadata": {},
          "execution_count": 10
        }
      ]
    },
    {
      "cell_type": "markdown",
      "source": [
        "5. What is the value of spam[:2]?\n",
        "*Ans:* This returns the first two elements of the list (i.e., the elements at the 0th and 1st index position).\\\n",
        "spam[:2] returns \n",
        "['a', 'b'].\n"
      ],
      "metadata": {
        "id": "L9UOSVi0VvRX"
      }
    },
    {
      "cell_type": "code",
      "source": [
        "spam[:2]"
      ],
      "metadata": {
        "colab": {
          "base_uri": "https://localhost:8080/"
        },
        "id": "-eyCk9SN1cIu",
        "outputId": "f25525d8-01ee-463c-c49b-f28e40eb69a4"
      },
      "execution_count": null,
      "outputs": [
        {
          "output_type": "execute_result",
          "data": {
            "text/plain": [
              "['a', 'b']"
            ]
          },
          "metadata": {},
          "execution_count": 11
        }
      ]
    },
    {
      "cell_type": "markdown",
      "source": [
        "Let's pretend bacon has the list [3.14, 'cat,' 11, 'cat,' True] for the next three questions."
      ],
      "metadata": {
        "id": "3ylvZMpo2un3"
      }
    },
    {
      "cell_type": "code",
      "source": [
        "bacon = [3.14, 'cat', 11, 'cat', True]"
      ],
      "metadata": {
        "id": "IjweODlD2yCl"
      },
      "execution_count": null,
      "outputs": []
    },
    {
      "cell_type": "markdown",
      "source": [
        "6. What is the value of bacon.index('cat')?\n",
        "*Ans:* 1\\\n",
        "Since index() method returns the index of the specified element in the list. If we have a duplicate elements then the index method returns the position of the first occurance of the element. Hence, the result is 1."
      ],
      "metadata": {
        "id": "bVXEHRW6VxQr"
      }
    },
    {
      "cell_type": "code",
      "source": [
        "bacon.index('cat')"
      ],
      "metadata": {
        "colab": {
          "base_uri": "https://localhost:8080/"
        },
        "id": "JwqNxcck2r7s",
        "outputId": "28130c18-2955-4428-953e-7bb86585fc8e"
      },
      "execution_count": null,
      "outputs": [
        {
          "output_type": "execute_result",
          "data": {
            "text/plain": [
              "1"
            ]
          },
          "metadata": {},
          "execution_count": 15
        }
      ]
    },
    {
      "cell_type": "markdown",
      "source": [
        "7. How does bacon.append(99) change the look of the list value in bacon?\n",
        "*Ans:* append method adds specified element at the end of the list.\\\n",
        "Output:\\\n",
        "[3.14, 'cat', 11, 'cat', True, 99]"
      ],
      "metadata": {
        "id": "VC5TvkBWV48d"
      }
    },
    {
      "cell_type": "code",
      "source": [
        "bacon.append(99)\n",
        "print(bacon)"
      ],
      "metadata": {
        "colab": {
          "base_uri": "https://localhost:8080/"
        },
        "id": "ewKR1eiL3CUp",
        "outputId": "72e2a209-5a63-4998-91a3-500b6e33ede7"
      },
      "execution_count": null,
      "outputs": [
        {
          "output_type": "stream",
          "name": "stdout",
          "text": [
            "[3.14, 'cat', 11, 'cat', True, 99]\n"
          ]
        }
      ]
    },
    {
      "cell_type": "markdown",
      "source": [
        "8. How does bacon.remove('cat') change the look of the list in bacon?"
      ],
      "metadata": {
        "id": "COc2-OyGV7k3"
      }
    },
    {
      "cell_type": "code",
      "source": [
        "bacon.remove('cat')\n",
        "print(bacon)"
      ],
      "metadata": {
        "colab": {
          "base_uri": "https://localhost:8080/"
        },
        "id": "vsJfRJLp3lZL",
        "outputId": "e9566558-4a44-409e-8ca9-61e06dccadfd"
      },
      "execution_count": null,
      "outputs": [
        {
          "output_type": "stream",
          "name": "stdout",
          "text": [
            "[3.14, 11, 'cat', True, 99]\n"
          ]
        }
      ]
    },
    {
      "cell_type": "markdown",
      "source": [
        "9. What are the list concatenation and list replication operators?\n",
        "*Ans:*\\\n",
        "\\+ operator is the list concatenation operator.\\\n",
        "\\* operator is the list replication operator"
      ],
      "metadata": {
        "id": "e_r20puiV9hh"
      }
    },
    {
      "cell_type": "code",
      "source": [
        "l1 = [1, 2, 3]\n",
        "l2 = [5, 6, 7]\n",
        "##List concatenation\n",
        "print(\"Concatenation of lists l1 and l2 is: \", l1+l2)\n",
        "## List replication\n",
        "print(\"List l1 is replicated three times and is given by: \", l1*3)"
      ],
      "metadata": {
        "colab": {
          "base_uri": "https://localhost:8080/"
        },
        "id": "NGbVJ85F0LW5",
        "outputId": "164e4078-6a18-462d-de87-f9a15cac1235"
      },
      "execution_count": null,
      "outputs": [
        {
          "output_type": "stream",
          "name": "stdout",
          "text": [
            "Concatenation of lists l1 and l2 is:  [1, 2, 3, 5, 6, 7]\n",
            "List l1 is replicated three times and is given by:  [1, 2, 3, 1, 2, 3, 1, 2, 3]\n"
          ]
        }
      ]
    },
    {
      "cell_type": "markdown",
      "source": [
        "10. What is difference between the list methods append() and insert()?\n",
        "*Ans:*  \n",
        "append() method adds new element in the end of the list. For instance, we have four elements in the list and if we add new element to that list using append method then that item will be added as the fifth element of that list.\\\n",
        "l = ['a', 'b', 'c', 'd']\\\n",
        "l.append(5)\\\n",
        "print(l)\\\n",
        "Output: ['a', 'b', 'c', 'd', 5]\\\n",
        "5 is added in the end.\n",
        "\n",
        "insert() method takes two arguments one is the element which you want to add and the other one is the index.  i.e, in which position you want to add that new value.\\\n",
        "l = ['a', 'b', 'c', 'd']\\\n",
        "l.insert(2, 5)  #This indicates we are adding 5 to the list l at the index 2\\\n",
        "print(l)\\\n",
        "Output: ['a', 'b', 5, 'c', 'd']\n",
        "5 is added at the index 2."
      ],
      "metadata": {
        "id": "LKMjG3iRV_8J"
      }
    },
    {
      "cell_type": "markdown",
      "source": [
        "11. What are the two methods for removing items from a list?\n",
        "*Ans:* \n",
        "pop() and remove() are the methods of removing items from the list.\\\n",
        "pop method takes index as an argument to remove the element. Whereas, remove method uses element itself as an argument to drop it from the list"
      ],
      "metadata": {
        "id": "VBSZuvUaWB7G"
      }
    },
    {
      "cell_type": "code",
      "source": [
        "l = ['a', 'b', 'c', 'd', 'e']"
      ],
      "metadata": {
        "id": "Nhq5RrPnFnGA"
      },
      "execution_count": null,
      "outputs": []
    },
    {
      "cell_type": "code",
      "source": [
        "# Drop the element which is at the index 2 i.e., the element 'c'\n",
        "l.pop(2)\n",
        "print(\"The updated list: \", l)"
      ],
      "metadata": {
        "colab": {
          "base_uri": "https://localhost:8080/"
        },
        "id": "IDVhDQ6HFso5",
        "outputId": "90b58767-8fd5-4306-8718-de6b8ede5e66"
      },
      "execution_count": null,
      "outputs": [
        {
          "output_type": "execute_result",
          "data": {
            "text/plain": [
              "3"
            ]
          },
          "metadata": {},
          "execution_count": 11
        }
      ]
    },
    {
      "cell_type": "code",
      "source": [
        "# Drop the element 'd' from the list\n",
        "l.remove('d')\n",
        "print(\"The updated list: \", l)"
      ],
      "metadata": {
        "id": "6gUeqDauF4Pv"
      },
      "execution_count": null,
      "outputs": []
    },
    {
      "cell_type": "markdown",
      "source": [
        "12. Describe how list values and string values are identical.\n",
        "*Ans:* \n",
        "* Both string and list are iterables. \n",
        "* Loops can be applied. \n",
        "* indexing and slicing can be performed.\n",
        "* concatination and replication operators can be used."
      ],
      "metadata": {
        "id": "GlhSGARHWFW4"
      }
    },
    {
      "cell_type": "markdown",
      "source": [
        "13. What's the difference between tuples and lists?\n",
        "*Ans:*\n",
        "* Tuples are immutable. i.e., addition or deletion of elements in the tuple is not possible. elemnts are wrapped within the parentheses ().\n",
        "* Lists are mutable. i.e., addition or deletion of elements in the list is possible. elemnts are wrapped within the square brckets []."
      ],
      "metadata": {
        "id": "DQ68dFBlWIyt"
      }
    },
    {
      "cell_type": "markdown",
      "source": [
        "14. How do you type a tuple value that only contains the integer 42?"
      ],
      "metadata": {
        "id": "FcclK2sGWLTi"
      }
    },
    {
      "cell_type": "code",
      "source": [
        "t = (42,)\n",
        "print(t, type(t))"
      ],
      "metadata": {
        "colab": {
          "base_uri": "https://localhost:8080/"
        },
        "id": "pj_GWpTE4KZn",
        "outputId": "3ad5a770-1137-4c8f-ceaa-93476055a65d"
      },
      "execution_count": null,
      "outputs": [
        {
          "output_type": "stream",
          "name": "stdout",
          "text": [
            "(42,) <class 'tuple'>\n"
          ]
        }
      ]
    },
    {
      "cell_type": "markdown",
      "source": [
        "15. How do you get a list value's tuple form? How do you get a tuple value's list form?\n",
        "*Ans:* Use tuple() function to convert list into tuple form. Similarly, use list() function to convert tuple into list form."
      ],
      "metadata": {
        "id": "AEd4wva6WNni"
      }
    },
    {
      "cell_type": "code",
      "source": [
        "l = [1, 2, 3, 4, 5]\n",
        "print(\"The list is: \", l)\n",
        "print(\"The above list is converted into the following tuple form: \", tuple(l))"
      ],
      "metadata": {
        "colab": {
          "base_uri": "https://localhost:8080/"
        },
        "id": "98uyuwbZrR6Q",
        "outputId": "e260132f-de22-4248-eaf8-b729f45c4b65"
      },
      "execution_count": null,
      "outputs": [
        {
          "output_type": "stream",
          "name": "stdout",
          "text": [
            "The list is:  [1, 2, 3, 4, 5]\n",
            "The above list is converted into the following tuple form:  (1, 2, 3, 4, 5)\n"
          ]
        }
      ]
    },
    {
      "cell_type": "code",
      "source": [
        "t = (1, 2, 3, 4, 5)\n",
        "print(\"The list is: \", t)\n",
        "print(\"The above tuple is converted into the following list form: \", list(t))"
      ],
      "metadata": {
        "colab": {
          "base_uri": "https://localhost:8080/"
        },
        "id": "KL9Z-JxcrVlh",
        "outputId": "8d838aa2-3f67-45bd-ca77-2a8fc401ca8b"
      },
      "execution_count": null,
      "outputs": [
        {
          "output_type": "stream",
          "name": "stdout",
          "text": [
            "The list is:  (1, 2, 3, 4, 5)\n",
            "The above tuple is converted into the following list form:  [1, 2, 3, 4, 5]\n"
          ]
        }
      ]
    },
    {
      "cell_type": "markdown",
      "source": [
        "16. Variables that \"contain\" list values are not necessarily lists themselves. Instead, what do they contain?\n",
        "*Ans:* Variable of a list is usually contains the refrence of that list not the actual list."
      ],
      "metadata": {
        "id": "ZjhImrKzWQC6"
      }
    },
    {
      "cell_type": "markdown",
      "source": [
        "17. How do you distinguish between copy.copy() and copy.deepcopy()?\n",
        "*Ans:* \n",
        "* copy.copy() is a shallow copy in which copy of the original object is stored and only the reference address of the that object is copied. Changes made in the copied object reflects on the original object.It stores reference of the object in the main memory.\n",
        "* copy.deepcopy() is a deep copy in which copy of the copy of the original object and the repetitive copies both are stored. Changes made in the copied object will not reflect on the original object. It stores copies of the object values."
      ],
      "metadata": {
        "id": "WbN52_WTWR5Y"
      }
    }
  ]
}