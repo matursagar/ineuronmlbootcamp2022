{
  "nbformat": 4,
  "nbformat_minor": 0,
  "metadata": {
    "colab": {
      "provenance": []
    },
    "kernelspec": {
      "name": "python3",
      "display_name": "Python 3"
    },
    "language_info": {
      "name": "python"
    }
  },
  "cells": [
    {
      "cell_type": "markdown",
      "source": [
        "1. In the below elements which of them are values or an expression? eg:- values can be integer or string and expressions will be mathematical operators. \n",
        "*\n",
        " \n",
        "'hello'\\\n",
        "-87.8\\\n",
        "\\-  \n",
        "/  \n",
        "\\+ \t\n",
        "6 \n",
        "\n",
        "\n",
        "*Ans:*\n",
        "\n",
        "'hello', -87.8 and 6 are the values.\n",
        "\n",
        "*, \\-, /, \\+ are the expressions. "
      ],
      "metadata": {
        "id": "TTWRBEUKnxqx"
      }
    },
    {
      "cell_type": "markdown",
      "source": [
        "2. What is the difference between string and variable?\n",
        "\n",
        "*Ans:*\n",
        "\n",
        "**String** is a sequene of characters which is wrapped within a single or double quotes. Basically, string is a data or information. Anything (either alphabets or numbers or special characters or anything which is wrapped within a single or double quotes is a string type.\n",
        "\n",
        "**Variable** is an identifier or a container which holds a value or a data assigned to it."
      ],
      "metadata": {
        "id": "URmHxtznpCcD"
      }
    },
    {
      "cell_type": "markdown",
      "source": [
        "3. Describe three different data types.\n",
        "\n",
        "*Ans:* \n",
        "*    **int**: Integer data is a whole number, it can be both negative and positive and in python integer datatype has no restrictions on the size.\n",
        "*    **float**: float is a number with decimal points, it can also be both positive, and negaive and no restrications on the size too.\n",
        "*    **bool**: boolean datatype has two values one is True (1) and the other one is False (0)."
      ],
      "metadata": {
        "id": "F4seHRImsMfQ"
      }
    },
    {
      "cell_type": "markdown",
      "source": [
        "4. What is an expression made up of? What do all expressions do?\n",
        "*Ans:*\n",
        "An expression is made up of operands and operators. Expressions uses the applies the operator on the operands and provides the output.\\\n",
        "For e.g., 2+4=6. where 2 and 4 are operands and '+' is the operator so 2+4 is an expression and its output is 6."
      ],
      "metadata": {
        "id": "pdUnbel-tXgh"
      }
    },
    {
      "cell_type": "markdown",
      "source": [
        "5. This assignment statements, like spam = 10. What is the difference between an expression and a statement?\n",
        "\n",
        "*Ans:*\n",
        "* Expression produces some value or output by executed/interpreted by the interpreter.Expression is not a statement\\\n",
        "for e.g a = 2**3\\\n",
        "print(a)\\\n",
        "output: 8\n",
        "\n",
        "* Statement is used for creating variables or for displaying values. A statement can be expression.\\\n",
        "for e.g., a = 8\\\n",
        "print(a)\\\n",
        "Output: 8"
      ],
      "metadata": {
        "id": "6J1nwZSHtaWx"
      }
    },
    {
      "cell_type": "markdown",
      "source": [
        "6. After running the following code, what does the variable bacon contain?\n",
        "\n",
        "bacon = 22\n",
        "\n",
        "bacon + 1\n",
        "\n",
        "*Ans:*\n",
        "after running the above code the variable bacon contains the value 22.\n",
        "\n",
        "(Though we add 1 to bacon in the second line of code but we are not storing that added value in the bacon variable)"
      ],
      "metadata": {
        "id": "00GwIQTwtd55"
      }
    },
    {
      "cell_type": "markdown",
      "source": [
        "7. What should the values of the following two terms be?\\\n",
        "'spam' + 'spamspam'\\\n",
        "'spam' * 3\n",
        "\n",
        "*Ans:*\\\n",
        "The output of both the terms is **'spamspamspam'**.\\\n",
        "(The Addition operator appends two string operands. However, the multiplication operator prints the same string as many times as referenced in the integer operator.)\n"
      ],
      "metadata": {
        "id": "tQVFgQ1svlTg"
      }
    },
    {
      "cell_type": "markdown",
      "source": [
        "8. Why is eggs a valid variable name while 100 is invalid?\n",
        "\n",
        "*Ans:*\\\n",
        "Variable is an identifier which holds data. one of the conditions of an identifier is it cannot start with a number. Hence, 100 violates the condition so it is not valid to be a variable. However, eggs contains only alphabets and it is not a reserved word too so it is a valid variable name."
      ],
      "metadata": {
        "id": "8sl9lUjZxX-X"
      }
    }
  ]
}