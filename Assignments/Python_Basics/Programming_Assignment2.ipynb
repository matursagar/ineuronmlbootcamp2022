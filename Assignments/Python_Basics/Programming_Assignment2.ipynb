{
  "nbformat": 4,
  "nbformat_minor": 0,
  "metadata": {
    "colab": {
      "provenance": []
    },
    "kernelspec": {
      "name": "python3",
      "display_name": "Python 3"
    },
    "language_info": {
      "name": "python"
    }
  },
  "cells": [
    {
      "cell_type": "markdown",
      "source": [
        "1.\tWrite a Python program to convert kilometers to miles?"
      ],
      "metadata": {
        "id": "txXQlyS_nUtT"
      }
    },
    {
      "cell_type": "code",
      "source": [
        "k = float(input(\"Enter the kilometers: \"))\n",
        "m = round(0.621 * k, 1)\n",
        "print(\"{} km is equals to {} miles\".format(k,m))"
      ],
      "metadata": {
        "colab": {
          "base_uri": "https://localhost:8080/"
        },
        "id": "KHAKRN9LnneK",
        "outputId": "9304c6e0-3d93-4060-8ba0-91cb583bf8b7"
      },
      "execution_count": null,
      "outputs": [
        {
          "output_type": "stream",
          "name": "stdout",
          "text": [
            "Enter the kilometers: 15\n",
            "15.0 km is equals to 9.3 miles\n"
          ]
        }
      ]
    },
    {
      "cell_type": "markdown",
      "source": [
        "2.\tWrite a Python program to convert Celsius to Fahrenheit?"
      ],
      "metadata": {
        "id": "kq8VoZ4GnYD8"
      }
    },
    {
      "cell_type": "code",
      "source": [
        "c = float(input(\"Enter the Celsius: \"))\n",
        "f = (1.8 * c) + 32\n",
        "print(\"{} Celcius is equals to {} Fahrenheit\".format(c,f))"
      ],
      "metadata": {
        "colab": {
          "base_uri": "https://localhost:8080/"
        },
        "id": "E3bgmU6yoW9d",
        "outputId": "d714dd6c-77db-42a2-b7fd-d691683bd9ee"
      },
      "execution_count": null,
      "outputs": [
        {
          "output_type": "stream",
          "name": "stdout",
          "text": [
            "Enter the Celsius: 37.5\n",
            "37.5 Celcius is equals to 99.5 Fahrenheit\n"
          ]
        }
      ]
    },
    {
      "cell_type": "markdown",
      "source": [
        "3.\tWrite a Python program to display calendar?"
      ],
      "metadata": {
        "id": "-YszswA0nZyr"
      }
    },
    {
      "cell_type": "code",
      "source": [
        "import calendar\n",
        "year = int(input(\"Enter the year: \"))\n",
        "print(\"Calender of the year\", year, \"is\", calendar.calendar(year))"
      ],
      "metadata": {
        "colab": {
          "base_uri": "https://localhost:8080/"
        },
        "id": "ZC9L5-z_pFpN",
        "outputId": "7e33a7bd-db20-4dc4-f777-8f7abda0c4b5"
      },
      "execution_count": null,
      "outputs": [
        {
          "output_type": "stream",
          "name": "stdout",
          "text": [
            "Enter the year: 2023\n",
            "Calender of the year 2023 is                                   2023\n",
            "\n",
            "      January                   February                   March\n",
            "Mo Tu We Th Fr Sa Su      Mo Tu We Th Fr Sa Su      Mo Tu We Th Fr Sa Su\n",
            "                   1             1  2  3  4  5             1  2  3  4  5\n",
            " 2  3  4  5  6  7  8       6  7  8  9 10 11 12       6  7  8  9 10 11 12\n",
            " 9 10 11 12 13 14 15      13 14 15 16 17 18 19      13 14 15 16 17 18 19\n",
            "16 17 18 19 20 21 22      20 21 22 23 24 25 26      20 21 22 23 24 25 26\n",
            "23 24 25 26 27 28 29      27 28                     27 28 29 30 31\n",
            "30 31\n",
            "\n",
            "       April                      May                       June\n",
            "Mo Tu We Th Fr Sa Su      Mo Tu We Th Fr Sa Su      Mo Tu We Th Fr Sa Su\n",
            "                1  2       1  2  3  4  5  6  7                1  2  3  4\n",
            " 3  4  5  6  7  8  9       8  9 10 11 12 13 14       5  6  7  8  9 10 11\n",
            "10 11 12 13 14 15 16      15 16 17 18 19 20 21      12 13 14 15 16 17 18\n",
            "17 18 19 20 21 22 23      22 23 24 25 26 27 28      19 20 21 22 23 24 25\n",
            "24 25 26 27 28 29 30      29 30 31                  26 27 28 29 30\n",
            "\n",
            "        July                     August                  September\n",
            "Mo Tu We Th Fr Sa Su      Mo Tu We Th Fr Sa Su      Mo Tu We Th Fr Sa Su\n",
            "                1  2          1  2  3  4  5  6                   1  2  3\n",
            " 3  4  5  6  7  8  9       7  8  9 10 11 12 13       4  5  6  7  8  9 10\n",
            "10 11 12 13 14 15 16      14 15 16 17 18 19 20      11 12 13 14 15 16 17\n",
            "17 18 19 20 21 22 23      21 22 23 24 25 26 27      18 19 20 21 22 23 24\n",
            "24 25 26 27 28 29 30      28 29 30 31               25 26 27 28 29 30\n",
            "31\n",
            "\n",
            "      October                   November                  December\n",
            "Mo Tu We Th Fr Sa Su      Mo Tu We Th Fr Sa Su      Mo Tu We Th Fr Sa Su\n",
            "                   1             1  2  3  4  5                   1  2  3\n",
            " 2  3  4  5  6  7  8       6  7  8  9 10 11 12       4  5  6  7  8  9 10\n",
            " 9 10 11 12 13 14 15      13 14 15 16 17 18 19      11 12 13 14 15 16 17\n",
            "16 17 18 19 20 21 22      20 21 22 23 24 25 26      18 19 20 21 22 23 24\n",
            "23 24 25 26 27 28 29      27 28 29 30               25 26 27 28 29 30 31\n",
            "30 31\n",
            "\n"
          ]
        }
      ]
    },
    {
      "cell_type": "markdown",
      "source": [
        "4.\tWrite a Python program to solve quadratic equation?"
      ],
      "metadata": {
        "id": "0JORXTU9nb5r"
      }
    },
    {
      "cell_type": "markdown",
      "source": [
        "The quadratic equation is given by,\\\n",
        "$$a x^2 + bx + c = 0$$\n",
        "where, a,b,c are the coefficients of the above quadratic equation.The roots of the above quadratic equation is obtained by the following quadratic formula:\n",
        "$$ x = \\frac{-b \\pm \\sqrt{b^2 - 4ac}}{2a} $$\n",
        "* If $b^2 - 4ac < 0,$ then the roots are complex.\n",
        "* If $b^2 - 4ac = 0,$ then both roots are real and same.\n",
        "* If $b^2 - 4ac > 0,$ then roots are real and different."
      ],
      "metadata": {
        "id": "XpZgN42TwISa"
      }
    },
    {
      "cell_type": "code",
      "source": [
        "import math\n",
        "x = input(\"Enter three values seperated by space\")\n",
        "x = x.split()\n",
        "a = float(x[0])\n",
        "b = float(x[1])\n",
        "c = float(x[2])\n",
        "dif = (b ** 2) - (4 * a * c)\n",
        "sqrt_dif = math.sqrt(abs(dif))\n",
        "\n",
        "if dif < 0:\n",
        "  print(\"roots are complex\")\n",
        "  print(-b / (2 * a), \" + i\", sqrt_dif)\n",
        "  print(-b / (2 * a), \" - i\", sqrt_dif)\n",
        "elif dif == 0:\n",
        "  print(\"both roots are real and same\")\n",
        "  print(-b / (2 * a))\n",
        "else:\n",
        "  print(\"roots are real and different \")\n",
        "  print((-b + sqrt_dif)/(2 * a))\n",
        "  print((-b - sqrt_dif)/(2 * a))"
      ],
      "metadata": {
        "colab": {
          "base_uri": "https://localhost:8080/"
        },
        "id": "LT0Vu3Lw7Vwz",
        "outputId": "2b6e2373-f38f-47fd-dfb8-f2a9214f3c09"
      },
      "execution_count": 16,
      "outputs": [
        {
          "output_type": "stream",
          "name": "stdout",
          "text": [
            "Enter three values seperated by space1 4 3\n",
            "roots are real and different \n",
            "-1.0\n",
            "-3.0\n"
          ]
        }
      ]
    },
    {
      "cell_type": "markdown",
      "source": [
        "5.\tWrite a Python program to swap two variables without temp variable?"
      ],
      "metadata": {
        "id": "td07oMCwndnz"
      }
    },
    {
      "cell_type": "code",
      "execution_count": 5,
      "metadata": {
        "id": "eyXf5cr5nQZb",
        "colab": {
          "base_uri": "https://localhost:8080/"
        },
        "outputId": "b0101f3f-671f-454b-d912-2faac01a772f"
      },
      "outputs": [
        {
          "output_type": "stream",
          "name": "stdout",
          "text": [
            "Enter first number: 10\n",
            "Enter second number: 15\n",
            "The values of variable a and b before the swap are 10 and 15 respectively\n",
            "The values of variable a and b after the swap are 15 and 10 respectively\n"
          ]
        }
      ],
      "source": [
        "a = int(input(\"Enter first number: \"))\n",
        "b = int(input(\"Enter second number: \"))\n",
        "print(\"The values of variable a and b before the swap are\", a, \"and\", b, \"respectively\")\n",
        "a, b = b, a\n",
        "print(\"The values of variable a and b after the swap are\", a,\"and\", b, \"respectively\")"
      ]
    }
  ]
}