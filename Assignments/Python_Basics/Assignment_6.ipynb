{
  "nbformat": 4,
  "nbformat_minor": 0,
  "metadata": {
    "colab": {
      "provenance": []
    },
    "kernelspec": {
      "name": "python3",
      "display_name": "Python 3"
    },
    "language_info": {
      "name": "python"
    }
  },
  "cells": [
    {
      "cell_type": "markdown",
      "source": [
        "1. What are escape characters, and how do you use them?\n",
        "**Ans:** Escape characters are non-printable characters when backslash precedes them. The print statements do not print escape characters. An escape character is a backslash \\ followed by the character you want to insert."
      ],
      "metadata": {
        "id": "zQ35YVa55svV"
      }
    },
    {
      "cell_type": "markdown",
      "source": [
        "2. What do the escape characters n and t stand for?\n",
        "\n",
        "**Ans:** The escape character n stands for newline (\\n) and t stands for tabspace (\\t)."
      ],
      "metadata": {
        "id": "TPtGGRDo5u2n"
      }
    },
    {
      "cell_type": "markdown",
      "source": [
        "3. What is the way to include backslash characters in a string?\n",
        "**Ans:** The \\ escape character represents a backslash character in a string."
      ],
      "metadata": {
        "id": "7HqYGF0E5wrW"
      }
    },
    {
      "cell_type": "markdown",
      "source": [
        "4. The string \"Howl's Moving Castle\" is a correct value. Why isn't the single quote character in the word Howl's not escaped a problem?\n",
        "**Ans**: Since the whole sentence or a string is wrapped within double quotes, so single quote character Howl's did not throw an error."
      ],
      "metadata": {
        "id": "PsQfHOhJ5ymi"
      }
    },
    {
      "cell_type": "markdown",
      "source": [
        "5. How do you write a string of newlines if you don't want to use the n character?\n",
        "\n",
        "**Ans:** We can use multiline string approach (i.e., string wrapped in tripple quotes), where we dont need n (escape) character to write newlines."
      ],
      "metadata": {
        "id": "5R-1wWvw50_W"
      }
    },
    {
      "cell_type": "markdown",
      "source": [
        "6. What are the values of the given expressions?\n",
        "\n",
        "'Hello, world!'[1]\\\n",
        "**Ans:** 'e'\n",
        "\n",
        "'Hello, world!'[0:5]\\\n",
        "**Ans:** 'Hello'\n",
        "\n",
        "'Hello, world!'[:5]\\\n",
        "**Ans:** 'Hello'\n",
        "\n",
        "'Hello, world!'[3:]\\\n",
        "**Ans:** 'lo, world!'"
      ],
      "metadata": {
        "id": "2ThAg3fg53Iv"
      }
    },
    {
      "cell_type": "markdown",
      "source": [
        "7. What are the values of the following expressions?\n",
        "\n",
        "'Hello'.upper()\\\n",
        "**Ans:** 'HELLO'\n",
        "\n",
        "'Hello'.upper().isupper()\\\n",
        "**Ans:** True\n",
        "\n",
        "'Hello'.upper().lower()\\\n",
        "**Ans:** 'hello'"
      ],
      "metadata": {
        "id": "XdnMLPXP56Cs"
      }
    },
    {
      "cell_type": "markdown",
      "source": [
        "8. What are the values of the following expressions?\n",
        "\n",
        "'Remember, remember, the fifth of July.'.split()\\\n",
        "**Ans:** ['Remember,', 'remember,', 'the', 'fifth', 'of', 'July.'] \n",
        "\n",
        "'-'.join('There can only one.'.split())\\\n",
        "**Ans:** There-can-only-one."
      ],
      "metadata": {
        "id": "o80rsOqA58Vb"
      }
    },
    {
      "cell_type": "markdown",
      "source": [
        "9. What are the methods for right-justifying, left-justifying, and centering a string?\n",
        "**Ans:** rjust(), ljust(), center() are the methods used to right-justify, left-justify and center the given string respectively. "
      ],
      "metadata": {
        "id": "MhS3d1VV5-g-"
      }
    },
    {
      "cell_type": "markdown",
      "source": [
        "10. What is the best way to remove whitespace characters from the start or end?\n",
        "**Ans:** lstrip() and rstrip() methods are used to remove the whitespace charecters from the start and end of a string respectively. "
      ],
      "metadata": {
        "id": "tmdEPt-H6AYo"
      }
    }
  ]
}