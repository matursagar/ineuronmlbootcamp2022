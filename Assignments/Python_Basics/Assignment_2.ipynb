{
  "nbformat": 4,
  "nbformat_minor": 0,
  "metadata": {
    "colab": {
      "provenance": []
    },
    "kernelspec": {
      "name": "python3",
      "display_name": "Python 3"
    },
    "language_info": {
      "name": "python"
    }
  },
  "cells": [
    {
      "cell_type": "markdown",
      "source": [
        "1. What are the two values of the Boolean data type? How do you write them?\n",
        "\n",
        "*Ans:* True and False are the two values of boolean datatype. First character of both the values is capital case letter and rest of the charecters in small case letter i.e., True, False. "
      ],
      "metadata": {
        "id": "JosT4nUJBkKi"
      }
    },
    {
      "cell_type": "markdown",
      "source": [
        "2. What are the three different types of Boolean operators?\n",
        "*Ans:* **and**, **or** and **not** are the boolean operators. "
      ],
      "metadata": {
        "id": "TdLcLflGBmrF"
      }
    },
    {
      "cell_type": "markdown",
      "source": [
        "3. Make a list of each Boolean operator's truth tables (i.e. every possible combination of Boolean values for the operator and what it evaluate ).\n",
        "*Ans:*\n",
        "* True **and** True = True\n",
        "* True **and** False = False\n",
        "* False **and** True = False\n",
        "* False **and** False = False\n",
        "* True **or** True = True\n",
        "* True **or** False = True\n",
        "* False **or** True = True\n",
        "* False **or** False = False\n",
        "* **not** True = False\n",
        "* **not** False = True"
      ],
      "metadata": {
        "id": "qpT7dRC4Bo5t"
      }
    },
    {
      "cell_type": "markdown",
      "source": [
        "4. What are the values of the following expressions?\\\n",
        "*Ans:*\\\n",
        "(5 > 4) and (3 == 5) = **False**\\\n",
        "not (5 > 4) = **False**\\\n",
        "(5 > 4) or (3 == 5) = **True**\\\n",
        "not ((5 > 4) or (3 == 5)) = **False**\\\n",
        "(True and True) and (True == False) = **False**\\\n",
        "(not False) or (not True) = **True**\n"
      ],
      "metadata": {
        "id": "vc8hBIpnBuGW"
      }
    },
    {
      "cell_type": "markdown",
      "source": [
        "5. What are the six comparison operators?\n",
        "*Ans:* Comparison operators are:\n",
        "* \\>=\n",
        "* \\<=\n",
        "* \\>\n",
        "* \\<\n",
        "* ==\n",
        "* !="
      ],
      "metadata": {
        "id": "biuKDYg5B6Lo"
      }
    },
    {
      "cell_type": "markdown",
      "source": [
        "6. How do you tell the difference between the equal to and assignment operators?Describe a condition and when you would use one.\n",
        "*Ans:* \n",
        "* The double equals to symbol (i.e., ==) is a equal operator, which is one of the comparison operator. It is basically used to check the conditions. It results in a boolean value.\\\n",
        "For e.g., 3/2 == 1, here we are checking the condition whether the result of 3/2 is equals to one or not. Obviously, the answer will be False. \n",
        "* Where as single equals to symbol (i.e., =) is a assignment operator, which is basically used to assign some value or store some value in a variable.\\\n",
        "For e.g., s = 5,  here we are assigning value 5 to the variable s. "
      ],
      "metadata": {
        "id": "YDXOO2vcBxQm"
      }
    },
    {
      "cell_type": "markdown",
      "source": [
        "7. Identify the three blocks in this code:\\\n",
        "spam = 0\\\n",
        "if spam == 10:\\\n",
        "  print('eggs')\\\n",
        "if spam > 5:\\\n",
        "  print('bacon')\\\n",
        "else:\\\n",
        "  print('ham')\\\n",
        "  print('spam')\\\n",
        "  print('spam')\n"
      ],
      "metadata": {
        "id": "gE-Ac3u2CBxs"
      }
    },
    {
      "cell_type": "markdown",
      "source": [
        "8. Write code that prints Hello if 1 is stored in spam, prints Howdy if 2 is stored in spam, and prints Greetings! if anything else is stored in spam."
      ],
      "metadata": {
        "id": "ud54qkouCdgs"
      }
    },
    {
      "cell_type": "code",
      "source": [
        "if spam == 1:\n",
        "  print(\"Hello\")\n",
        "elif spam == 2:\n",
        "  print('Howdy')\n",
        "else:\n",
        "  print('Greetings!')"
      ],
      "metadata": {
        "id": "zwZX0dc6M75r"
      },
      "execution_count": null,
      "outputs": []
    },
    {
      "cell_type": "markdown",
      "source": [
        "9. If your programme is stuck in an endless loop, what keys you’ll press?\n",
        "*Ans:* CTRL-C"
      ],
      "metadata": {
        "id": "Bj3v6-CjCk1t"
      }
    },
    {
      "cell_type": "markdown",
      "source": [
        "10. How can you tell the difference between break and continue?\n",
        "*Ans:*\n",
        "* break terminates of all the remaining iterations of the loop.\n",
        "* continue terminates only the current iteration of the loop."
      ],
      "metadata": {
        "id": "e1MbhitWCnua"
      }
    },
    {
      "cell_type": "markdown",
      "source": [
        "11. In a for loop, what is the difference between range(10), range(0, 10), and range(0, 10, 1)?\n",
        "*Ans:* In terms of output all the three range functions returns same values, the only difference is the passing the arguments.\n",
        "* range(10): Here we are passing single argument i.e., 10. When we pass single argument in a range function, the python consideres it as a end value minus 1 element (i.e., 10-1 = 9). Here by default start value will be 0. So, range(10) returns sequence of values from 0 to 9. \n",
        "* range(0, 10): In this case we are passing two arguments. Python considers first argument as start_value and second argument as end_value-1. So, range(0, 10) also returns sequence of values from 0 to 9. \n",
        "* range(0, 10, 1): In this case we are passing three arguments. Python considers first argument as start_value, second argument as end_value-1 and third arguemnt as step_value. step_value indicates the jump or the skip of numbers in the sequence.\\\n",
        "E.g., range(0, 10, 2) which returns 0, 2, 4, 6, 8. That is, it skips one step from the initial value. If we have step_value 3 it leaves two values ​​between each sequence (ie, 0, 3, 6, 9).\\\n",
        "But in our case the step_value is 1 so it returns sequence of values from 0 to 9."
      ],
      "metadata": {
        "id": "gAXRIWiLCqDM"
      }
    },
    {
      "cell_type": "markdown",
      "source": [
        "12. Write a short program that prints the numbers 1 to 10 using a for loop. Then write an equivalent program that prints the numbers 1 to 10 using a while loop."
      ],
      "metadata": {
        "id": "DY0e2ZnWCsYW"
      }
    },
    {
      "cell_type": "code",
      "source": [
        "for i in range(1, 11):\n",
        "  print(i)"
      ],
      "metadata": {
        "colab": {
          "base_uri": "https://localhost:8080/"
        },
        "id": "B0ou4mYlWd8y",
        "outputId": "61066281-7562-42e6-c679-918f3a87abb4"
      },
      "execution_count": 16,
      "outputs": [
        {
          "output_type": "stream",
          "name": "stdout",
          "text": [
            "1\n",
            "2\n",
            "3\n",
            "4\n",
            "5\n",
            "6\n",
            "7\n",
            "8\n",
            "9\n",
            "10\n"
          ]
        }
      ]
    },
    {
      "cell_type": "code",
      "source": [
        "i = 1\n",
        "while i <= 10:\n",
        "  print(i)\n",
        "  i += 1"
      ],
      "metadata": {
        "colab": {
          "base_uri": "https://localhost:8080/"
        },
        "id": "uid9MEQJWetB",
        "outputId": "ebc9ba04-8b19-431c-b8cb-98c5732c7e58"
      },
      "execution_count": 17,
      "outputs": [
        {
          "output_type": "stream",
          "name": "stdout",
          "text": [
            "1\n",
            "2\n",
            "3\n",
            "4\n",
            "5\n",
            "6\n",
            "7\n",
            "8\n",
            "9\n",
            "10\n"
          ]
        }
      ]
    },
    {
      "cell_type": "markdown",
      "source": [
        "13. If you had a function named bacon() inside a module named spam, how would you call it after importing spam?\n",
        "*Ans:*\\\n",
        "spam.bacon()"
      ],
      "metadata": {
        "id": "pLeN2xGLCuhW"
      }
    }
  ]
}