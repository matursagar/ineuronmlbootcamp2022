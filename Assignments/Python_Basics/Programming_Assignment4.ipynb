{
  "nbformat": 4,
  "nbformat_minor": 0,
  "metadata": {
    "colab": {
      "provenance": []
    },
    "kernelspec": {
      "name": "python3",
      "display_name": "Python 3"
    },
    "language_info": {
      "name": "python"
    }
  },
  "cells": [
    {
      "cell_type": "markdown",
      "source": [
        "1.\tWrite a Python Program to Find the Factorial of a Number?"
      ],
      "metadata": {
        "id": "RSnq7bAEoLjN"
      }
    },
    {
      "cell_type": "code",
      "source": [
        "n = int(input(\"Enter a integer: \"))\n",
        "fac = 1\n",
        "if n==0:\n",
        "  fac = 1\n",
        "  print(\"Factorial of\", n, \"is\", fac)\n",
        "elif n < 0:\n",
        "  print(\"Factorial of\", n, \"is not defined.\")\n",
        "else:\n",
        "  for i in range(1, n+1):\n",
        "    fac = fac * i\n",
        "  print(\"Factorial of\", n, \"is\", fac)\n"
      ],
      "metadata": {
        "colab": {
          "base_uri": "https://localhost:8080/"
        },
        "id": "u7WWOE0sLMAP",
        "outputId": "cb1a3828-dff1-4a2f-c386-74d0f96a1a67"
      },
      "execution_count": 30,
      "outputs": [
        {
          "output_type": "stream",
          "name": "stdout",
          "text": [
            "Enter a integer: 6\n",
            "Factorial of 6 is 720\n"
          ]
        }
      ]
    },
    {
      "cell_type": "markdown",
      "source": [
        "2.\tWrite a Python Program to Display the multiplication Table?"
      ],
      "metadata": {
        "id": "IXBdXlaJoMlK"
      }
    },
    {
      "cell_type": "code",
      "source": [
        "n = int(input(\"Enter a number to generate its multiplication table: \"))\n",
        "print(\"Multiplication table of {}:\".format(n))\n",
        "i = 1\n",
        "while i<=10:\n",
        "  print(n,\"X\", i,\"=\", n*i)\n",
        "  i += 1"
      ],
      "metadata": {
        "colab": {
          "base_uri": "https://localhost:8080/"
        },
        "id": "EaCbMhnRNg9h",
        "outputId": "b61d7ac9-3cfb-4566-f9ab-3d479739a1ac"
      },
      "execution_count": 33,
      "outputs": [
        {
          "output_type": "stream",
          "name": "stdout",
          "text": [
            "Enter a number to generate its multiplication table: 5\n",
            "Multiplication table of 5:\n",
            "5 X 1 = 5\n",
            "5 X 2 = 10\n",
            "5 X 3 = 15\n",
            "5 X 4 = 20\n",
            "5 X 5 = 25\n",
            "5 X 6 = 30\n",
            "5 X 7 = 35\n",
            "5 X 8 = 40\n",
            "5 X 9 = 45\n",
            "5 X 10 = 50\n"
          ]
        }
      ]
    },
    {
      "cell_type": "markdown",
      "source": [
        "3.\tWrite a Python Program to Print the Fibonacci sequence?"
      ],
      "metadata": {
        "id": "_HvkGnCyoOP3"
      }
    },
    {
      "cell_type": "code",
      "source": [
        "n = int(input(\"Enter a positive integer: \"))\n",
        "print(\"First {} fibonacci sequence: \".format(n))\n",
        "a = 0\n",
        "b = 1\n",
        "for i in range(n):\n",
        "  print(a)\n",
        "  temp = a + b\n",
        "  a = b\n",
        "  b = temp"
      ],
      "metadata": {
        "colab": {
          "base_uri": "https://localhost:8080/"
        },
        "id": "2Uow3AQ7Olkl",
        "outputId": "c5ac511d-14ba-4294-a844-be08fbf152e7"
      },
      "execution_count": 38,
      "outputs": [
        {
          "output_type": "stream",
          "name": "stdout",
          "text": [
            "Enter a positive integer: 10\n",
            "First 10 fibonacci sequence: \n",
            "0\n",
            "1\n",
            "1\n",
            "2\n",
            "3\n",
            "5\n",
            "8\n",
            "13\n",
            "21\n",
            "34\n"
          ]
        }
      ]
    },
    {
      "cell_type": "markdown",
      "source": [
        "4.\tWrite a Python Program to Check Armstrong Number?"
      ],
      "metadata": {
        "id": "JfHa7prVoPwo"
      }
    },
    {
      "cell_type": "code",
      "source": [
        "n = int(input(\"Enter a number: \"))\n",
        "s = str(n)\n",
        "d = len(s)\n",
        "a = 0\n",
        "for i in s:\n",
        "  a = a + int(i) ** d\n",
        "if a == n:\n",
        "  print(\"{} is a Armstrong number\".format(n))"
      ],
      "metadata": {
        "colab": {
          "base_uri": "https://localhost:8080/"
        },
        "id": "O-qYxFKM0PZ4",
        "outputId": "cd0a6ba1-b831-48e8-a4e0-3cffae15ac16"
      },
      "execution_count": 20,
      "outputs": [
        {
          "output_type": "stream",
          "name": "stdout",
          "text": [
            "Enter a number: 370\n",
            "370 is a Armstrong number\n"
          ]
        }
      ]
    },
    {
      "cell_type": "markdown",
      "source": [
        "5.\tWrite a Python Program to Find Armstrong Number in an Interval?"
      ],
      "metadata": {
        "id": "eNEVe_RaoRg7"
      }
    },
    {
      "cell_type": "code",
      "source": [
        "start = int(input(\"Enter start value: \"))\n",
        "end = int(input(\"Enter end value: \"))\n",
        "print(\"The Armstrong Numbers between the interval {}-{}\".format(start, end))\n",
        "for n in range(start, end+1):\n",
        "  s = str(n)\n",
        "  d = len(s)\n",
        "  a = 0\n",
        "  for i in s:\n",
        "    a = a + int(i) ** d\n",
        "  if a == n:\n",
        "    print(n)"
      ],
      "metadata": {
        "colab": {
          "base_uri": "https://localhost:8080/"
        },
        "id": "iQOuu0st1g19",
        "outputId": "0eb0897a-d7e8-482b-ac71-d0af3fb03473"
      },
      "execution_count": 40,
      "outputs": [
        {
          "output_type": "stream",
          "name": "stdout",
          "text": [
            "Enter start value: 1\n",
            "Enter end value: 10000\n",
            "The Armstrong Numbers between the interval 1-10000\n",
            "1\n",
            "2\n",
            "3\n",
            "4\n",
            "5\n",
            "6\n",
            "7\n",
            "8\n",
            "9\n",
            "153\n",
            "370\n",
            "371\n",
            "407\n",
            "1634\n",
            "8208\n",
            "9474\n"
          ]
        }
      ]
    },
    {
      "cell_type": "markdown",
      "source": [
        "6.\tWrite a Python Program to Find the Sum of Natural Numbers?"
      ],
      "metadata": {
        "id": "QCGScBlLoThg"
      }
    },
    {
      "cell_type": "code",
      "source": [
        "n = int(input(\"Enter a natural number: \"))\n",
        "sum_n = int((n * (n+1))/2)\n",
        "print(\"Sum of {} natural numbers is {}\".format(n, sum_n))"
      ],
      "metadata": {
        "colab": {
          "base_uri": "https://localhost:8080/"
        },
        "id": "NixVNNKNiAmB",
        "outputId": "b363cfce-47ff-4fd5-bef8-c600c5932283"
      },
      "execution_count": 47,
      "outputs": [
        {
          "output_type": "stream",
          "name": "stdout",
          "text": [
            "Enter a natural number: 10\n",
            "Sum of 10 natural numbers is 55\n"
          ]
        }
      ]
    },
    {
      "cell_type": "code",
      "source": [
        "n = int(input(\"Enter a natural number: \"))\n",
        "sum_n = 0\n",
        "for i in range(1, n+1):\n",
        "  sum_n = sum_n + i\n",
        "print(\"Sum of {} natural numbers is {}\".format(n, sum_n))"
      ],
      "metadata": {
        "colab": {
          "base_uri": "https://localhost:8080/"
        },
        "id": "3tWkxYzchdal",
        "outputId": "a2239b8b-38a7-444f-feb3-70f9cd5284dd"
      },
      "execution_count": 48,
      "outputs": [
        {
          "output_type": "stream",
          "name": "stdout",
          "text": [
            "Enter a natural number: 10\n",
            "Sum of 10 natural numbers is 55\n"
          ]
        }
      ]
    }
  ]
}