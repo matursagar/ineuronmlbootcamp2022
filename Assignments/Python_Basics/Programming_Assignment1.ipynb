{
  "nbformat": 4,
  "nbformat_minor": 0,
  "metadata": {
    "colab": {
      "provenance": []
    },
    "kernelspec": {
      "name": "python3",
      "display_name": "Python 3"
    },
    "language_info": {
      "name": "python"
    }
  },
  "cells": [
    {
      "cell_type": "markdown",
      "source": [
        "1.\tWrite a Python program to print \"Hello Python\"?"
      ],
      "metadata": {
        "id": "bOKZLLBgczZq"
      }
    },
    {
      "cell_type": "code",
      "execution_count": 1,
      "metadata": {
        "colab": {
          "base_uri": "https://localhost:8080/"
        },
        "id": "4_uYp6EvcpVl",
        "outputId": "d09360e9-1cb1-427e-ed46-985f06374378"
      },
      "outputs": [
        {
          "output_type": "stream",
          "name": "stdout",
          "text": [
            "Hello Python\n"
          ]
        }
      ],
      "source": [
        "print(\"Hello Python\")"
      ]
    },
    {
      "cell_type": "markdown",
      "source": [
        "2.\tWrite a Python program to do arithmetical operations addition and division.?"
      ],
      "metadata": {
        "id": "Qao2hTJEc9Wr"
      }
    },
    {
      "cell_type": "code",
      "source": [
        "a = int(input(\"Enter first number: \"))\n",
        "b = int(input(\"Enter second number: \"))\n",
        "#Addition\n",
        "c = a+b\n",
        "print(\"Addition of {} and {} is {}\".format(a, b, c))\n",
        "#Division\n",
        "d = a/b\n",
        "print(\"Division of {} by {} is {}\".format(a, b, d))"
      ],
      "metadata": {
        "colab": {
          "base_uri": "https://localhost:8080/"
        },
        "id": "lKhwcThKc696",
        "outputId": "70353c51-05a0-4dfb-b21d-185bf1ec039c"
      },
      "execution_count": 2,
      "outputs": [
        {
          "output_type": "stream",
          "name": "stdout",
          "text": [
            "Enter first number: 8\n",
            "Enter second number: 2\n",
            "Addition of 8 and 2 is 10\n",
            "Division of 8 by 2 is 4.0\n"
          ]
        }
      ]
    },
    {
      "cell_type": "markdown",
      "source": [
        "3.\tWrite a Python program to find the area of a triangle?"
      ],
      "metadata": {
        "id": "P_y1VDSbfL2x"
      }
    },
    {
      "cell_type": "code",
      "source": [
        "b = float(input(\"Enter the base: \"))\n",
        "h = float(input(\"Enter the height: \"))\n",
        "area = (b * h) / 2\n",
        "print(\"Area of the triangle with the base {} and height {} is {}\".format(b, h, area))"
      ],
      "metadata": {
        "colab": {
          "base_uri": "https://localhost:8080/"
        },
        "id": "4HdwfxZPettR",
        "outputId": "a73bc763-189a-4d1e-dd2f-4ee4dbdbe28c"
      },
      "execution_count": 5,
      "outputs": [
        {
          "output_type": "stream",
          "name": "stdout",
          "text": [
            "Enter the base: 10\n",
            "Enter the height: 12\n",
            "Area of the triangle with the base 10.0 and height 12.0 is 60.0\n"
          ]
        }
      ]
    },
    {
      "cell_type": "markdown",
      "source": [
        "4.\tWrite a Python program to swap two variables?\n"
      ],
      "metadata": {
        "id": "GC3FKvKriUAJ"
      }
    },
    {
      "cell_type": "code",
      "source": [
        "a = 12\n",
        "b = 15\n",
        "print(\"The values of the variable a and b are a=\", a,\"b=\", b)\n",
        "a,b=b,a\n",
        "print(\"After swaping the values are a=\", a,\"and b=\", b)"
      ],
      "metadata": {
        "colab": {
          "base_uri": "https://localhost:8080/"
        },
        "id": "P9lfwIA-iB4b",
        "outputId": "6635beb1-b3ad-423e-8c22-b0b247894e56"
      },
      "execution_count": 11,
      "outputs": [
        {
          "output_type": "stream",
          "name": "stdout",
          "text": [
            "The values of the variable a and b are a= 12 b= 15\n",
            "After swaping the values are a= 15 and b= 12\n"
          ]
        }
      ]
    },
    {
      "cell_type": "markdown",
      "source": [
        "5.\tWrite a Python program to generate a random number?"
      ],
      "metadata": {
        "id": "ACm6Q3K1jztS"
      }
    },
    {
      "cell_type": "code",
      "source": [
        "import random\n",
        "print(\"A random number generated between 0.0 to 1.0 is\",random.random())\n",
        "print(\"A random integer generated between 1 to 100 is\",random.randint(1, 100))"
      ],
      "metadata": {
        "colab": {
          "base_uri": "https://localhost:8080/"
        },
        "id": "ciruUKf4jHXD",
        "outputId": "f15d0f4f-6ef6-472f-aacb-4dda3efe3519"
      },
      "execution_count": 18,
      "outputs": [
        {
          "output_type": "stream",
          "name": "stdout",
          "text": [
            "A random number generated between 0.0 to 1.0 is 0.27094526546349196\n",
            "A random integer generated between 1 to 100 is 73\n"
          ]
        }
      ]
    },
    {
      "cell_type": "code",
      "source": [],
      "metadata": {
        "id": "2Hr26cXhj8RO"
      },
      "execution_count": null,
      "outputs": []
    }
  ]
}