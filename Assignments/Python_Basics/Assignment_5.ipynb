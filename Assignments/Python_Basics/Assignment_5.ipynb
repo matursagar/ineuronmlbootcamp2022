{
  "nbformat": 4,
  "nbformat_minor": 0,
  "metadata": {
    "colab": {
      "provenance": []
    },
    "kernelspec": {
      "name": "python3",
      "display_name": "Python 3"
    },
    "language_info": {
      "name": "python"
    }
  },
  "cells": [
    {
      "cell_type": "markdown",
      "source": [
        "1. What does an empty dictionary's code look like?\n",
        "*Ans:* An empty dictionary is given by open and close curly brackets.\n",
        "i.e., {}"
      ],
      "metadata": {
        "id": "217KEBP4M8qB"
      }
    },
    {
      "cell_type": "markdown",
      "source": [
        "2. What is the value of a dictionary value with the key 'foo' and the value 42?\n",
        "*Ans:* {'foo':42}"
      ],
      "metadata": {
        "id": "HSdb10kgM-o9"
      }
    },
    {
      "cell_type": "markdown",
      "source": [
        "3. What is the most significant distinction between a dictionary and a list?\n",
        "*Ans:* Significant differences between Dictionary and List are:\n",
        "* Dictionaries contain unordered collection of elements. Lists contain ordered collection of elements.\n",
        "* Elements or the values of the dictionaries are accessed through its keys. In lists elements are accessed through the indexes."
      ],
      "metadata": {
        "id": "eh_g_K6cNAvK"
      }
    },
    {
      "cell_type": "markdown",
      "source": [
        "4. What happens if you try to access spam['foo'] if spam is {'bar': 100}?\n",
        "*Ans:*\n",
        "Since the key 'foo' is not present in the dictionary spam, so python will throw an error."
      ],
      "metadata": {
        "id": "v70V8q-pNDcR"
      }
    },
    {
      "cell_type": "markdown",
      "source": [
        "5. If a dictionary is stored in spam, what is the difference between the expressions 'cat' in spam and 'cat' in spam.keys()?\n",
        "*Ans:* There is no difference in both the expressions. Both the expression checks whether the string 'cat' is present or not in the keys of dictionary spam. Both the expression checks the keys not the values."
      ],
      "metadata": {
        "id": "SV8kj3YVNHpt"
      }
    },
    {
      "cell_type": "markdown",
      "source": [
        "6. If a dictionary is stored in spam, what is the difference between the expressions 'cat' in spam and 'cat' in spam.values()?\n",
        "*Ans:* There is a difference between both the expressions.\n",
        "* First expression i.e., 'cat' in spam checks whether the string 'cat' is present in and as a **key** in the dictionary spam.\n",
        "* Second expression i.e., 'cat' in spam.values() checks whether the string 'cat' is present in and as a **value** in the dictionary spam."
      ],
      "metadata": {
        "id": "qV3IS_kCNJel"
      }
    },
    {
      "cell_type": "markdown",
      "source": [
        "7. What is a shortcut for the following code?\\\n",
        "if 'color' not in spam:\\\n",
        "spam['color'] = 'black'\n",
        "\n",
        "*Ans:*\\\n",
        "spam.setdefault('color','black')"
      ],
      "metadata": {
        "id": "oXeQNoJcNLjA"
      }
    },
    {
      "cell_type": "markdown",
      "source": [
        "8. How do you \"pretty print\" dictionary values using which module and function?\n",
        "\n",
        "*Ans:*\n",
        "Module for pretty print dictionary values is: **pprint**\\\n",
        "function for pretty print dictionary values is: **pprint.pprint()**"
      ],
      "metadata": {
        "id": "uF3cKY-HNTIp"
      }
    }
  ]
}